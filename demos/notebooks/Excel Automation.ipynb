{
 "cells": [
  {
   "cell_type": "markdown",
   "metadata": {},
   "source": [
    "### Automating Excel with win32com"
   ]
  },
  {
   "cell_type": "code",
   "execution_count": 10,
   "metadata": {
    "pycharm": {}
   },
   "outputs": [],
   "source": [
    "from win32com.client import Dispatch"
   ]
  },
  {
   "cell_type": "code",
   "execution_count": 11,
   "metadata": {
    "pycharm": {}
   },
   "outputs": [],
   "source": [
    "# Get the Excel Application COM object\n",
    "xl = Dispatch(\"Excel.Application\")"
   ]
  },
  {
   "cell_type": "code",
   "execution_count": 24,
   "metadata": {
    "pycharm": {}
   },
   "outputs": [],
   "source": [
    "# Get the current active sheet\n",
    "sheet = xl.ActiveSheet"
   ]
  },
  {
   "cell_type": "code",
   "execution_count": 25,
   "metadata": {},
   "outputs": [],
   "source": [
    "cells = sheet.Range(\"A1:H10\")\n",
    "cells.Value = 100"
   ]
  },
  {
   "cell_type": "code",
   "execution_count": 35,
   "metadata": {
    "pycharm": {}
   },
   "outputs": [],
   "source": [
    "import random\n",
    "\n",
    "# Set the selected cells to random colours\n",
    "cells = xl.Selection\n",
    "\n",
    "for row in range(1, cells.Rows.Count+1):\n",
    "    for col in range(1, cells.Columns.Count+1):\n",
    "        cell = cells.Item(row, col)\n",
    "\n",
    "        red = random.randint(0, 255)\n",
    "        green = random.randint(0, 255)\n",
    "        blue = random.randint(0, 255)\n",
    "        color = red | (green << 8) | (blue << 16)\n",
    "        cell.Interior.Color = color"
   ]
  },
  {
   "cell_type": "code",
   "execution_count": 36,
   "metadata": {},
   "outputs": [],
   "source": [
    "# Clear all background colours\n",
    "sheet.Cells.Interior.ColorIndex = 0"
   ]
  },
  {
   "cell_type": "markdown",
   "metadata": {},
   "source": [
    "### Event Processing using win32com"
   ]
  },
  {
   "cell_type": "code",
   "execution_count": 32,
   "metadata": {},
   "outputs": [],
   "source": [
    "from functools import partial\n",
    "\n",
    "\n",
    "class EventHandlerMetaClass(type):\n",
    "    \"\"\"\n",
    "    A meta class for event handlers that don't repsond to all events.\n",
    "    Without this an error would be raised by win32com when it tries\n",
    "    to call an event handler method that isn't defined by the event\n",
    "    handler instance.\n",
    "    \"\"\"\n",
    "    @staticmethod\n",
    "    def null_event_handler(event, *args, **kwargs):\n",
    "        print(f\"Unhandled event '{event}'\")\n",
    "        return None\n",
    "\n",
    "    def __new__(mcs, name, bases, dict):\n",
    "        # Construct the new class.\n",
    "        cls = type.__new__(mcs, name, bases, dict)\n",
    "\n",
    "        # Create dummy methods for any missing event handlers.\n",
    "        cls._dispid_to_func_ = getattr(cls, \"_dispid_to_func_\", {})\n",
    "        for dispid, name in cls._dispid_to_func_.items():\n",
    "            func = getattr(cls, name, None)\n",
    "            if func is None:\n",
    "                setattr(cls, name, partial(EventHandlerMetaClass.null_event_handler, name))\n",
    "        return cls\n",
    "\n",
    "\n",
    "class WorksheetEventHandler(metaclass=EventHandlerMetaClass):\n",
    "\n",
    "    def OnSelectionChange(self, target):\n",
    "        print(\"Selection changed: \" + self.Application.Selection.GetAddress())\n",
    "\n",
    "\n",
    "from win32com.client import DispatchWithEvents\n",
    "\n",
    "sheet = xl.ActiveSheet\n",
    "sheet_with_events = DispatchWithEvents(sheet, WorksheetEventHandler)"
   ]
  },
  {
   "cell_type": "code",
   "execution_count": 34,
   "metadata": {},
   "outputs": [
    {
     "name": "stdout",
     "output_type": "stream",
     "text": [
      "Stopping\n"
     ]
    },
    {
     "ename": "NameError",
     "evalue": "name 'sheet_with_events' is not defined",
     "output_type": "error",
     "traceback": [
      "\u001b[1;31m---------------------------------------------------------------------------\u001b[0m",
      "\u001b[1;31mNameError\u001b[0m                                 Traceback (most recent call last)",
      "\u001b[1;32m<ipython-input-34-e59a7a407cfa>\u001b[0m in \u001b[0;36m<module>\u001b[1;34m\u001b[0m\n\u001b[0;32m      8\u001b[0m \u001b[1;33m\u001b[0m\u001b[0m\n\u001b[0;32m      9\u001b[0m \u001b[0mprint\u001b[0m\u001b[1;33m(\u001b[0m\u001b[1;34m\"Stopping\"\u001b[0m\u001b[1;33m)\u001b[0m\u001b[1;33m\u001b[0m\u001b[1;33m\u001b[0m\u001b[0m\n\u001b[1;32m---> 10\u001b[1;33m \u001b[1;32mdel\u001b[0m \u001b[0msheet_with_events\u001b[0m\u001b[1;33m\u001b[0m\u001b[1;33m\u001b[0m\u001b[0m\n\u001b[0m",
      "\u001b[1;31mNameError\u001b[0m: name 'sheet_with_events' is not defined"
     ]
    }
   ],
   "source": [
    "# Process Windows messages periodically\n",
    "import pythoncom\n",
    "import time\n",
    "\n",
    "for _ in range(50):\n",
    "    pythoncom.PumpWaitingMessages()\n",
    "    time.sleep(0.1)\n",
    "\n",
    "print(\"Stopping\")\n",
    "del sheet_with_events"
   ]
  },
  {
   "cell_type": "code",
   "execution_count": null,
   "metadata": {},
   "outputs": [],
   "source": []
  }
 ],
 "metadata": {
  "kernelspec": {
   "display_name": "Python 3",
   "language": "python",
   "name": "python3"
  },
  "language_info": {
   "codemirror_mode": {
    "name": "ipython",
    "version": 3
   },
   "file_extension": ".py",
   "mimetype": "text/x-python",
   "name": "python",
   "nbconvert_exporter": "python",
   "pygments_lexer": "ipython3",
   "version": "3.7.1"
  }
 },
 "nbformat": 4,
 "nbformat_minor": 2
}
